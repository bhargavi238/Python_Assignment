{
 "cells": [
  {
   "cell_type": "code",
   "execution_count": 1,
   "id": "1bd2c2a8",
   "metadata": {},
   "outputs": [],
   "source": [
    "# Write a function prodDigits() that inputs a number and returns the product of digits of that number.\n",
    "def prodDigits():\n",
    "    n = int(input(\"Enter a number : \"))// 4bytes// 1\n",
    "    prod = 1// 4 bytes// 1\n",
    "    if n == 0 :// 1\n",
    "        return 0\n",
    "    while(n>0):// len(n)\n",
    "        rem = n % 10// 4 bytes\n",
    "        prod = prod * rem\n",
    "        n = n//10\n",
    "    return prod"
   ]
  },
  {
   "cell_type": "code",
   "execution_count": 6,
   "id": "350a8b03",
   "metadata": {},
   "outputs": [
    {
     "name": "stdout",
     "output_type": "stream",
     "text": [
      "Enter a number : -87\n"
     ]
    },
    {
     "data": {
      "text/plain": [
       "1"
      ]
     },
     "execution_count": 6,
     "metadata": {},
     "output_type": "execute_result"
    }
   ],
   "source": [
    "prodDigits()"
   ]
  },
  {
   "cell_type": "code",
   "execution_count": 1,
   "id": "a4a1d824",
   "metadata": {},
   "outputs": [],
   "source": [
    "#Write a program filterOdd() which can filter odd numbers in a list by using filter function\n",
    "def filterOdd():\n",
    "    List = list(map(int,input().split()))\n",
    "    res = []\n",
    "    if len(List) == 0 :\n",
    "        return \n",
    "    for i in range(len(List)):\n",
    "        if List[i] % 2 == 1:\n",
    "            res.append(List[i])\n",
    "    return res"
   ]
  },
  {
   "cell_type": "code",
   "execution_count": 2,
   "id": "f5984304",
   "metadata": {},
   "outputs": [
    {
     "name": "stdout",
     "output_type": "stream",
     "text": [
      "2 34 54 54 67\n"
     ]
    },
    {
     "data": {
      "text/plain": [
       "[67]"
      ]
     },
     "execution_count": 2,
     "metadata": {},
     "output_type": "execute_result"
    }
   ],
   "source": [
    "filterOdd()"
   ]
  },
  {
   "cell_type": "code",
   "execution_count": 12,
   "id": "3abab7c1",
   "metadata": {},
   "outputs": [
    {
     "name": "stdout",
     "output_type": "stream",
     "text": [
      "1 3 43 54 64 77 57\n"
     ]
    },
    {
     "data": {
      "text/plain": [
       "[1, 3, 43, 77, 57]"
      ]
     },
     "execution_count": 12,
     "metadata": {},
     "output_type": "execute_result"
    }
   ],
   "source": [
    "filterOdd()"
   ]
  },
  {
   "cell_type": "code",
   "execution_count": 6,
   "id": "8f57a0c2",
   "metadata": {},
   "outputs": [],
   "source": [
    "def product_num():\n",
    "    n = input()//4 bytes// 1\n",
    "    prod = 1// 4 bytes// 1\n",
    "    for i in n:// 4 bytes// n-1\n",
    "        prod = prod* int(i)\n",
    "    return prod"
   ]
  },
  {
   "cell_type": "code",
   "execution_count": 7,
   "id": "06dddc2d",
   "metadata": {},
   "outputs": [
    {
     "name": "stdout",
     "output_type": "stream",
     "text": [
      "3432\n"
     ]
    },
    {
     "data": {
      "text/plain": [
       "72"
      ]
     },
     "execution_count": 7,
     "metadata": {},
     "output_type": "execute_result"
    }
   ],
   "source": [
    "product_num()"
   ]
  },
  {
   "cell_type": "code",
   "execution_count": 8,
   "id": "1432f812",
   "metadata": {},
   "outputs": [],
   "source": [
    "#1Write a\tfunction\tthat\tinputs\ta\tnumber\tand\tprints\tthe\tmultiplication\ttable\tof\tthat number\n",
    "def multiplication_table(num):\n",
    "    for i in range(1, 11):\n",
    "        print(num, \"x\", i, \"=\", num * i)\n",
    "    \n"
   ]
  },
  {
   "cell_type": "code",
   "execution_count": 9,
   "id": "50e2fa93",
   "metadata": {},
   "outputs": [
    {
     "name": "stdout",
     "output_type": "stream",
     "text": [
      "9 x 1 = 9\n",
      "9 x 2 = 18\n",
      "9 x 3 = 27\n",
      "9 x 4 = 36\n",
      "9 x 5 = 45\n",
      "9 x 6 = 54\n",
      "9 x 7 = 63\n",
      "9 x 8 = 72\n",
      "9 x 9 = 81\n",
      "9 x 10 = 90\n"
     ]
    }
   ],
   "source": [
    "multiplication_table(9)"
   ]
  },
  {
   "cell_type": "code",
   "execution_count": 21,
   "id": "e96201e8",
   "metadata": {},
   "outputs": [],
   "source": [
    "'''\tWrite\ta\tprogram\tto\tprint\ttwin\tprimes\tless\tthan\t1000.\tIf\ttwo\tconsecutive\todd\n",
    "numbers\tare\tboth\tprime\tthen\tthey\tare\tknown\tas\t*/'''\n",
    "def prime(num):\n",
    "    if(num==2):\n",
    "        return True\n",
    "    if(num%2==0):\n",
    "        return False\n",
    "    for i in range(3,num,2):\n",
    "        if(num%i==0):\n",
    "            return False\n",
    "    return True\n",
    "          \n",
    "    \n",
    "def twin_primes():\n",
    "    for i in range(3,1000):\n",
    "        if prime(i) :\n",
    "            if prime(i+2):\n",
    "                print(i ,\" and \",i+2)\n",
    "            \n",
    "          \n",
    "    \n"
   ]
  },
  {
   "cell_type": "code",
   "execution_count": 22,
   "id": "3bc2bc70",
   "metadata": {},
   "outputs": [
    {
     "name": "stdout",
     "output_type": "stream",
     "text": [
      "3  and  5\n",
      "5  and  7\n",
      "11  and  13\n",
      "17  and  19\n",
      "29  and  31\n",
      "41  and  43\n",
      "59  and  61\n",
      "71  and  73\n",
      "101  and  103\n",
      "107  and  109\n",
      "137  and  139\n",
      "149  and  151\n",
      "179  and  181\n",
      "191  and  193\n",
      "197  and  199\n",
      "227  and  229\n",
      "239  and  241\n",
      "269  and  271\n",
      "281  and  283\n",
      "311  and  313\n",
      "347  and  349\n",
      "419  and  421\n",
      "431  and  433\n",
      "461  and  463\n",
      "521  and  523\n",
      "569  and  571\n",
      "599  and  601\n",
      "617  and  619\n",
      "641  and  643\n",
      "659  and  661\n",
      "809  and  811\n",
      "821  and  823\n",
      "827  and  829\n",
      "857  and  859\n",
      "881  and  883\n"
     ]
    }
   ],
   "source": [
    "twin_primes()"
   ]
  },
  {
   "cell_type": "code",
   "execution_count": null,
   "id": "759b9637",
   "metadata": {},
   "outputs": [],
   "source": []
  },
  {
   "cell_type": "code",
   "execution_count": 17,
   "id": "5f131c2d",
   "metadata": {},
   "outputs": [],
   "source": [
    "#\tWrite\ta\tprogram\tto\tfind\tout\tthe\tprime\t\n",
    "def prime(num):\n",
    "    if(num==2):\n",
    "        return True\n",
    "    if(num%2==0):\n",
    "        return False\n",
    "    for i in range(3,num,2):\n",
    "        if(num%i==0):\n",
    "            return False\n",
    "    return True\n",
    "def prime_factors(num):\n",
    "    list_factors = []\n",
    "    for i in range(2,num):\n",
    "        temp = num\n",
    "        if prime(i) :\n",
    "            while(temp%i ==0):\n",
    "                list_factors.append(i)\n",
    "                temp = temp/i\n",
    "    return list_factors"
   ]
  },
  {
   "cell_type": "code",
   "execution_count": 18,
   "id": "529399a1",
   "metadata": {},
   "outputs": [
    {
     "data": {
      "text/plain": [
       "[2, 2, 2, 7]"
      ]
     },
     "execution_count": 18,
     "metadata": {},
     "output_type": "execute_result"
    }
   ],
   "source": [
    "prime_factors(56)"
   ]
  },
  {
   "cell_type": "code",
   "execution_count": 10,
   "id": "1ac79f83",
   "metadata": {},
   "outputs": [
    {
     "data": {
      "text/plain": [
       "False"
      ]
     },
     "execution_count": 10,
     "metadata": {},
     "output_type": "execute_result"
    }
   ],
   "source": [
    "prime(12)"
   ]
  },
  {
   "cell_type": "code",
   "execution_count": 30,
   "id": "76531272",
   "metadata": {},
   "outputs": [
    {
     "name": "stdout",
     "output_type": "stream",
     "text": [
      "60\n",
      "10\n"
     ]
    }
   ],
   "source": [
    "import math\n",
    "\n",
    "def permutations(n, r):\n",
    "    return math.factorial(n) // math.factorial(n - r)\n",
    "\n",
    "def combinations(n, r):\n",
    "    return math.factorial(n) // (math.factorial(r) * math.factorial(n - r))\n",
    "n = 5\n",
    "r = 3\n",
    "print(permutations(n, r))\n",
    "print(combinations(n, r))\n",
    "\n",
    "'''permutation = n!/(n-r)!\n",
    "   combinations = n!/(n-r)!(r)!\n",
    "'''\n"
   ]
  },
  {
   "cell_type": "code",
   "execution_count": 27,
   "id": "6735f7ea",
   "metadata": {},
   "outputs": [],
   "source": [
    "def decimal_to_binary(num):\n",
    "    binary = \"\"\n",
    "    while num > 0:\n",
    "        binary = str(num % 2) + binary\n",
    "        num = num // 2\n",
    "    return binary"
   ]
  },
  {
   "cell_type": "code",
   "execution_count": 29,
   "id": "201d7490",
   "metadata": {},
   "outputs": [
    {
     "data": {
      "text/plain": [
       "'10100'"
      ]
     },
     "execution_count": 29,
     "metadata": {},
     "output_type": "execute_result"
    }
   ],
   "source": [
    "decimal_to_binary(20)"
   ]
  },
  {
   "cell_type": "code",
   "execution_count": 31,
   "id": "96d79406",
   "metadata": {},
   "outputs": [],
   "source": [
    "def cubesum(num):\n",
    "    sum = 0\n",
    "    for digit in str(num):\n",
    "        sum += int(digit) ** 3\n",
    "    return sum\n",
    "def isArmstrong(num):\n",
    "    return num == cubesum(num)\n",
    "def printArmstrong(start, end):\n",
    "    for num in range(start, end+1):\n",
    "        if isArmstrong(num):\n",
    "            print(num)\n"
   ]
  },
  {
   "cell_type": "code",
   "execution_count": 32,
   "id": "475d9934",
   "metadata": {},
   "outputs": [],
   "source": [
    "printArmstrong(22,55)"
   ]
  },
  {
   "cell_type": "code",
   "execution_count": 33,
   "id": "5ad79a7e",
   "metadata": {},
   "outputs": [
    {
     "name": "stdout",
     "output_type": "stream",
     "text": [
      "370\n",
      "371\n",
      "407\n"
     ]
    }
   ],
   "source": [
    "printArmstrong(222,555)"
   ]
  },
  {
   "cell_type": "code",
   "execution_count": 7,
   "id": "5fb4012f",
   "metadata": {},
   "outputs": [],
   "source": [
    "'''\n",
    "8.\tIf\tall\tdigits\tof\ta\tnumber\tn\tare\tmultiplied\tby\teach\tother\trepeating\twith\tthe\tproduct,the\tone\tdigit\tnumber\tobtained\tat\tlast\tis\tcalled\tthe\tmultiplicative\tdigital\troot\tof\tn.\tThe\n",
    "number\tof\ttimes\tdigits\tneed\tto\tbe\tmultiplied\tto\treach\tone\tdigit\tis\tcalled\tthemultiplicative\tpersistance\tof\n",
    "'''\n",
    "def prodDigits(num):\n",
    "    prod = 1\n",
    "    if num == 0 :\n",
    "        return 0\n",
    "    while(num > 0):\n",
    "        rem = num % 10\n",
    "        prod = prod * rem\n",
    "        num = num//10\n",
    "    return prod\n",
    "def mdigital_root_persistance(num):\n",
    "    persistance_count = 0\n",
    "    while(num > 9):\n",
    "        num = prodDigits(num)\n",
    "        persistance_count += 1\n",
    "    return num,persistance_count"
   ]
  },
  {
   "cell_type": "code",
   "execution_count": 8,
   "id": "d12dc583",
   "metadata": {},
   "outputs": [
    {
     "data": {
      "text/plain": [
       "(6, 3)"
      ]
     },
     "execution_count": 8,
     "metadata": {},
     "output_type": "execute_result"
    }
   ],
   "source": [
    "mdigital_root_persistance(86)"
   ]
  },
  {
   "cell_type": "code",
   "execution_count": 15,
   "id": "46f5a0b0",
   "metadata": {},
   "outputs": [],
   "source": [
    "'''9. Write a function sumPdivisors() that finds the sum of proper divisors of a number.\n",
    "Proper divisors of a number are those numbers by which the number is divisible,\n",
    "except the number itself. For example proper divisors of 36 are 1, 2, 3, 4, 6, 9, 18\n",
    "'''\n",
    "def sumDivisors(num):\n",
    "    divisors = []\n",
    "    for i in range(1,num):\n",
    "        if(num % i == 0):\n",
    "            divisors.append(i)\n",
    "    return sum(divisors)"
   ]
  },
  {
   "cell_type": "code",
   "execution_count": 16,
   "id": "9ef6f41c",
   "metadata": {},
   "outputs": [
    {
     "data": {
      "text/plain": [
       "31"
      ]
     },
     "execution_count": 16,
     "metadata": {},
     "output_type": "execute_result"
    }
   ],
   "source": [
    "sumDivisors(32)"
   ]
  },
  {
   "cell_type": "code",
   "execution_count": 17,
   "id": "66150906",
   "metadata": {},
   "outputs": [],
   "source": [
    "'''10. A number is called perfect if the sum of proper divisors of that number is equal to\n",
    "the number. For example 28 is perfect number, since 1+2+4+7+14=28. Write a\n",
    "program to print all the perfect numbers in a given range\n",
    "'''\n",
    "def sumDivisors(num):\n",
    "    divisors = []\n",
    "    for i in range(1,num):\n",
    "        if(num % i == 0):\n",
    "            divisors.append(i)\n",
    "    return sum(divisors)\n",
    "def is_perfect(num):\n",
    "    if(sumDivisors(num) == num):\n",
    "        return True\n",
    "    return False\n",
    "def perfect_numbers():\n",
    "    for i in range(1,100):\n",
    "        if(is_perfect(i)):\n",
    "            print(i)"
   ]
  },
  {
   "cell_type": "code",
   "execution_count": 18,
   "id": "9daa4bd3",
   "metadata": {},
   "outputs": [
    {
     "name": "stdout",
     "output_type": "stream",
     "text": [
      "6\n",
      "28\n"
     ]
    }
   ],
   "source": [
    "perfect_numbers()"
   ]
  },
  {
   "cell_type": "code",
   "execution_count": 19,
   "id": "03fc9199",
   "metadata": {},
   "outputs": [],
   "source": [
    "'''11. Two different numbers are called amicable numbers if the sum of the proper\n",
    "divisors of each is equal to the other number.\n",
    "For example, 220 and 284 are amicable numbers.\n",
    "Sum of proper divisors of 220 = $1+2+4+5+10+11+20+22+44+55+110 = 284$\n",
    "Sum of proper divisors of 284 = $1+2+4+71+142 = 220$\n",
    "Write a function to print pairs of amicable numbers in a range\n",
    "'''\n",
    "def sumDivisors(num):\n",
    "    divisors = []\n",
    "    for i in range(1,num):\n",
    "        if(num % i == 0):\n",
    "            divisors.append(i)\n",
    "    return sum(divisors)\n",
    "def is_amicable(n1,n2):\n",
    "    if(sumDivisors(n1) == n2):\n",
    "        if(sumDivisors(n2) == n1):\n",
    "            return True\n",
    "    return False\n",
    "def amicable_numbers(n1,n2):\n",
    "    if(is_amicable(n1, n2)):\n",
    "        print('Amicable')\n",
    "    else:\n",
    "        print('Not Amicable')\n",
    "        "
   ]
  },
  {
   "cell_type": "code",
   "execution_count": 20,
   "id": "31a956b3",
   "metadata": {},
   "outputs": [
    {
     "name": "stdout",
     "output_type": "stream",
     "text": [
      "Not Amicable\n"
     ]
    }
   ],
   "source": [
    "amicable_numbers(243,453)"
   ]
  },
  {
   "cell_type": "code",
   "execution_count": 25,
   "id": "225f9d26",
   "metadata": {},
   "outputs": [],
   "source": [
    "''' Write a program which can filter odd numbers in a list by using filter function\n",
    "'''\n",
    "def is_odd(num):\n",
    "    return num % 2 == 1\n",
    "\n",
    "def odd_list(my_list):\n",
    "    return  list(filter(is_odd, my_list))\n"
   ]
  },
  {
   "cell_type": "code",
   "execution_count": 26,
   "id": "fc1d6648",
   "metadata": {},
   "outputs": [
    {
     "data": {
      "text/plain": [
       "[1, 3, 5, 45, 67]"
      ]
     },
     "execution_count": 26,
     "metadata": {},
     "output_type": "execute_result"
    }
   ],
   "source": [
    "my_list = [1,3,4,5,45,67,32,44]\n",
    "odd_list(my_list)"
   ]
  },
  {
   "cell_type": "code",
   "execution_count": 2,
   "id": "47a5c104",
   "metadata": {},
   "outputs": [],
   "source": [
    "'''13. Write a program which can map() to make a list whose elements are cube of\n",
    "elements in a given list\n",
    "'''\n",
    "def cube(x):\n",
    "    return x ** 3\n",
    "\n",
    "def cubeList(my_list):\n",
    "    return list(map(cube, my_list))\n",
    "   "
   ]
  },
  {
   "cell_type": "code",
   "execution_count": 3,
   "id": "82c73573",
   "metadata": {},
   "outputs": [],
   "source": [
    "my_list = [2, 4, 3]\n",
    "cubes = cubeList(my_list)"
   ]
  },
  {
   "cell_type": "code",
   "execution_count": 4,
   "id": "98cb3c97",
   "metadata": {},
   "outputs": [
    {
     "data": {
      "text/plain": [
       "[8, 64, 27]"
      ]
     },
     "execution_count": 4,
     "metadata": {},
     "output_type": "execute_result"
    }
   ],
   "source": [
    "list1 = [2, 4, 3]\n",
    "cubeList(list1)"
   ]
  },
  {
   "cell_type": "code",
   "execution_count": 5,
   "id": "69c51e31",
   "metadata": {},
   "outputs": [],
   "source": [
    "'''14.Write a program which can map() and filter() to make a list whose elements are\n",
    "cube of even number in a given list'''\n",
    "def cube(num):\n",
    "    return num**3\n",
    "def is_even(num):\n",
    "    if(num%2 == 0):\n",
    "        return True\n",
    "    return False\n",
    "def filteredlist(list1):\n",
    "    return list(filter(is_even, list1))\n",
    "def even_cube_list(list1):\n",
    "    return list(map(cube, filteredlist(list1)))\n",
    "\n",
    "    "
   ]
  },
  {
   "cell_type": "code",
   "execution_count": 6,
   "id": "6dad0aa2",
   "metadata": {
    "scrolled": true
   },
   "outputs": [
    {
     "data": {
      "text/plain": [
       "[8, 64, 216, 512, 1000]"
      ]
     },
     "execution_count": 6,
     "metadata": {},
     "output_type": "execute_result"
    }
   ],
   "source": [
    "list1 = [1,2,3,4,5,6,7,8,9,10,11]\n",
    "even_cube_list(list1)"
   ]
  },
  {
   "cell_type": "code",
   "execution_count": null,
   "id": "85ad348f",
   "metadata": {},
   "outputs": [],
   "source": []
  }
 ],
 "metadata": {
  "kernelspec": {
   "display_name": "Python 3 (ipykernel)",
   "language": "python",
   "name": "python3"
  },
  "language_info": {
   "codemirror_mode": {
    "name": "ipython",
    "version": 3
   },
   "file_extension": ".py",
   "mimetype": "text/x-python",
   "name": "python",
   "nbconvert_exporter": "python",
   "pygments_lexer": "ipython3",
   "version": "3.10.9"
  }
 },
 "nbformat": 4,
 "nbformat_minor": 5
}
